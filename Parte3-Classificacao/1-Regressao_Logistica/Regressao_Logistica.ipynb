{
 "cells": [
  {
   "cell_type": "code",
   "execution_count": 2,
   "metadata": {},
   "outputs": [],
   "source": [
    "# Importação de Bibliotecas\n",
    "\n",
    "import numpy as np\n",
    "import pandas as pd\n",
    "import matplotlib.pyplot as plt"
   ]
  },
  {
   "cell_type": "code",
   "execution_count": 3,
   "metadata": {},
   "outputs": [],
   "source": [
    "# Carregando o dataset\n",
    "\n",
    "dataset = pd.read_csv('Social_Network_Ads.csv')\n",
    "X = dataset.iloc[:,:-1].values\n",
    "y = dataset.iloc[:,-1].values"
   ]
  },
  {
   "cell_type": "code",
   "execution_count": 4,
   "metadata": {},
   "outputs": [],
   "source": [
    "# Dividindo o dataset em dados de treino e dados de teste\n",
    "\n",
    "from sklearn.model_selection import train_test_split\n",
    "X_train, X_test, y_train, y_test = train_test_split(X, y, test_size=0.25, random_state = 0)"
   ]
  },
  {
   "cell_type": "code",
   "execution_count": 5,
   "metadata": {},
   "outputs": [],
   "source": [
    "# Dimensionsamento de recursos\n",
    "\n",
    "from sklearn.preprocessing import StandardScaler\n",
    "sc = StandardScaler()\n",
    "X_train = sc.fit_transform(X_train)\n",
    "X_test = sc.transform(X_test)"
   ]
  },
  {
   "cell_type": "code",
   "execution_count": 6,
   "metadata": {},
   "outputs": [],
   "source": [
    "# Construção do Modelo de Regressão Logística\n",
    "\n",
    "from sklearn.linear_model import LogisticRegression\n",
    "clf_logistica = LogisticRegression(random_state = 0)"
   ]
  },
  {
   "cell_type": "code",
   "execution_count": 7,
   "metadata": {},
   "outputs": [
    {
     "data": {
      "text/plain": [
       "LogisticRegression(random_state=0)"
      ]
     },
     "execution_count": 7,
     "metadata": {},
     "output_type": "execute_result"
    }
   ],
   "source": [
    "# Treinamento do Modelo de Regressão Logística\n",
    "\n",
    "clf_logistica.fit(X_train, y_train)"
   ]
  },
  {
   "cell_type": "code",
   "execution_count": 8,
   "metadata": {},
   "outputs": [
    {
     "name": "stdout",
     "output_type": "stream",
     "text": [
      "Digite a idade: 30\n",
      "Digite o salário estimado: 87000\n"
     ]
    }
   ],
   "source": [
    "# Previsão com dados específicos\n",
    "\n",
    "idade = int(input(\"Digite a idade: \"))\n",
    "salario = float(input(\"Digite o salário estimado: \"))\n",
    "\n",
    "prev = clf_logistica.predict(sc.transform([[idade,salario]]))"
   ]
  },
  {
   "cell_type": "code",
   "execution_count": 9,
   "metadata": {},
   "outputs": [],
   "source": [
    "# Previsão do Modelo de Regressão Logística nos dados de teste\n",
    "\n",
    "previsoes_logistica = clf_logistica.predict(X_test)"
   ]
  },
  {
   "cell_type": "code",
   "execution_count": 10,
   "metadata": {},
   "outputs": [
    {
     "name": "stdout",
     "output_type": "stream",
     "text": [
      "[[0 0]\n",
      " [0 0]\n",
      " [0 0]\n",
      " [0 0]\n",
      " [0 0]\n",
      " [0 0]\n",
      " [0 0]\n",
      " [1 1]\n",
      " [0 0]\n",
      " [1 0]\n",
      " [0 0]\n",
      " [0 0]\n",
      " [0 0]\n",
      " [0 0]\n",
      " [0 0]\n",
      " [0 0]\n",
      " [0 0]\n",
      " [0 0]\n",
      " [1 1]\n",
      " [0 0]\n",
      " [0 0]\n",
      " [1 1]\n",
      " [0 0]\n",
      " [1 1]\n",
      " [0 0]\n",
      " [1 1]\n",
      " [0 0]\n",
      " [0 0]\n",
      " [0 0]\n",
      " [0 0]\n",
      " [0 0]\n",
      " [0 1]\n",
      " [1 1]\n",
      " [0 0]\n",
      " [0 0]\n",
      " [0 0]\n",
      " [0 0]\n",
      " [0 0]\n",
      " [0 0]\n",
      " [1 1]\n",
      " [0 0]\n",
      " [0 0]\n",
      " [0 0]\n",
      " [0 0]\n",
      " [1 1]\n",
      " [0 0]\n",
      " [0 0]\n",
      " [1 1]\n",
      " [0 0]\n",
      " [1 1]\n",
      " [1 1]\n",
      " [0 0]\n",
      " [0 0]\n",
      " [0 0]\n",
      " [1 1]\n",
      " [0 1]\n",
      " [0 0]\n",
      " [0 0]\n",
      " [0 1]\n",
      " [0 0]\n",
      " [0 0]\n",
      " [1 1]\n",
      " [0 0]\n",
      " [0 1]\n",
      " [0 0]\n",
      " [1 1]\n",
      " [0 0]\n",
      " [0 0]\n",
      " [0 0]\n",
      " [0 0]\n",
      " [1 1]\n",
      " [0 0]\n",
      " [0 0]\n",
      " [0 1]\n",
      " [0 0]\n",
      " [0 0]\n",
      " [1 0]\n",
      " [0 0]\n",
      " [1 1]\n",
      " [1 1]\n",
      " [1 1]\n",
      " [1 0]\n",
      " [0 0]\n",
      " [0 0]\n",
      " [1 1]\n",
      " [1 1]\n",
      " [0 0]\n",
      " [1 1]\n",
      " [0 1]\n",
      " [0 0]\n",
      " [0 0]\n",
      " [1 1]\n",
      " [0 0]\n",
      " [0 0]\n",
      " [0 0]\n",
      " [0 1]\n",
      " [0 0]\n",
      " [0 1]\n",
      " [1 1]\n",
      " [1 1]]\n"
     ]
    }
   ],
   "source": [
    "# Resultados do Modelo de Regressão Logística\n",
    "\n",
    "print(np.concatenate((previsoes_logistica.reshape(len(previsoes_logistica),1), y_test.reshape(len(y_test),1)), 1))"
   ]
  },
  {
   "cell_type": "code",
   "execution_count": 11,
   "metadata": {},
   "outputs": [
    {
     "data": {
      "text/plain": [
       "array([[65,  3],\n",
       "       [ 8, 24]], dtype=int64)"
      ]
     },
     "execution_count": 11,
     "metadata": {},
     "output_type": "execute_result"
    }
   ],
   "source": [
    "# Matriz de Confusão do Modelo de Regressão Logística\n",
    "\n",
    "from sklearn.metrics import confusion_matrix\n",
    "confusion_matrix(y_test, previsoes_logistica)"
   ]
  },
  {
   "cell_type": "code",
   "execution_count": 12,
   "metadata": {},
   "outputs": [
    {
     "data": {
      "text/plain": [
       "0.89"
      ]
     },
     "execution_count": 12,
     "metadata": {},
     "output_type": "execute_result"
    }
   ],
   "source": [
    "# Acurácia do Modelo de Regressão Logística\n",
    "\n",
    "from sklearn.metrics import accuracy_score\n",
    "accuracy_score(y_test, previsoes_logistica)"
   ]
  },
  {
   "cell_type": "code",
   "execution_count": 13,
   "metadata": {},
   "outputs": [
    {
     "data": {
      "text/plain": [
       "\"\\nfrom matplotlib.colors import ListedColormap\\nX_set, y_set = sc.inverse_transform(X_train), y_train\\nX1, X2 = np.meshgrid(np.arange(start = X_set[:,0].min() - 10, stop = X_set[:,0].max() + 10, step=0.25), np.arange(start = X_set[:,1].min() - 1000, stop = X_set[:,1].max() + 1000, step=0.25))\\nplt.contourf(X1, X2, clf_logistica.predict(sc.transform(np.array([X1.ravel(),X2.ravel()]).T)).reshape(X1.shape), alpha = 0.75, cmap=ListedColormap(('red','green')))\\nplt.xlim(X1.min(), X1.max())\\nplt.ylim(X2.min(), X2.max())\\nfor i, j in enumerate(np.unique(y_set)):\\n    plt.scatter(X_set[y_set == j, 0], X_set[y_set == j, 1], c=ListedColormap(('red','green'))(i), label = j)\\nplt.title('Regressão Logística - Dados de Treino')\\nplt.xlabel('Idade')\\nplt.y_label('Salário Estimado')\\nplt.legend()\\nplt.show()\\n\""
      ]
     },
     "execution_count": 13,
     "metadata": {},
     "output_type": "execute_result"
    }
   ],
   "source": [
    "# Visualizando os resultados do Modelo de Regressão Logística nos dados de treino\n",
    "'''\n",
    "from matplotlib.colors import ListedColormap\n",
    "X_set, y_set = sc.inverse_transform(X_train), y_train\n",
    "X1, X2 = np.meshgrid(np.arange(start = X_set[:,0].min() - 10, stop = X_set[:,0].max() + 10, step=0.25), np.arange(start = X_set[:,1].min() - 1000, stop = X_set[:,1].max() + 1000, step=0.25))\n",
    "plt.contourf(X1, X2, clf_logistica.predict(sc.transform(np.array([X1.ravel(),X2.ravel()]).T)).reshape(X1.shape), alpha = 0.75, cmap=ListedColormap(('red','green')))\n",
    "plt.xlim(X1.min(), X1.max())\n",
    "plt.ylim(X2.min(), X2.max())\n",
    "for i, j in enumerate(np.unique(y_set)):\n",
    "    plt.scatter(X_set[y_set == j, 0], X_set[y_set == j, 1], c=ListedColormap(('red','green'))(i), label = j)\n",
    "plt.title('Regressão Logística - Dados de Treino')\n",
    "plt.xlabel('Idade')\n",
    "plt.y_label('Salário Estimado')\n",
    "plt.legend()\n",
    "plt.show()\n",
    "'''"
   ]
  },
  {
   "cell_type": "code",
   "execution_count": 14,
   "metadata": {},
   "outputs": [
    {
     "data": {
      "text/plain": [
       "\"\\nfrom matplotlib.colors import ListedColormap\\nX_set, y_set = sc.inverse_transform(X_test), y_test\\nX1, X2 = np.meshgrid(np.arange(start = X_set[:,0].min() - 10, stop = X_set[:,0].max() + 10, step=0.25), np.arange(start = X_set[:,1].min() - 1000, stop = X_set[:,1].max() + 1000, step=0.25))\\nplt.contourf(X1, X2, clf_logistica.predict(sc.transform(np.array([X1.ravel(),X2.ravel()]).T)).reshape(X1.shape), alpha = 0.75, cmap=ListedColormap(('red','green')))\\nplt.xlim(X1.min(), X1.max())\\nplt.ylim(X2.min(), X2.max())\\nfor i, j in enumerate(np.unique(y_set)):\\n    plt.scatter(X_set[y_set == j, 0], X_set[y_set == j, 1], c=ListedColormap(('red','green'))(i), label = j)\\nplt.title('Regressão Logística - Dados de Teste')\\nplt.xlabel('Idade')\\nplt.y_label('Salário Estimado')\\nplt.legend()\\nplt.show()\\n\""
      ]
     },
     "execution_count": 14,
     "metadata": {},
     "output_type": "execute_result"
    }
   ],
   "source": [
    "# Visualizando os resultados do Modelo de Regressão Logística nos dados de teste\n",
    "'''\n",
    "from matplotlib.colors import ListedColormap\n",
    "X_set, y_set = sc.inverse_transform(X_test), y_test\n",
    "X1, X2 = np.meshgrid(np.arange(start = X_set[:,0].min() - 10, stop = X_set[:,0].max() + 10, step=0.25), np.arange(start = X_set[:,1].min() - 1000, stop = X_set[:,1].max() + 1000, step=0.25))\n",
    "plt.contourf(X1, X2, clf_logistica.predict(sc.transform(np.array([X1.ravel(),X2.ravel()]).T)).reshape(X1.shape), alpha = 0.75, cmap=ListedColormap(('red','green')))\n",
    "plt.xlim(X1.min(), X1.max())\n",
    "plt.ylim(X2.min(), X2.max())\n",
    "for i, j in enumerate(np.unique(y_set)):\n",
    "    plt.scatter(X_set[y_set == j, 0], X_set[y_set == j, 1], c=ListedColormap(('red','green'))(i), label = j)\n",
    "plt.title('Regressão Logística - Dados de Teste')\n",
    "plt.xlabel('Idade')\n",
    "plt.y_label('Salário Estimado')\n",
    "plt.legend()\n",
    "plt.show()\n",
    "'''"
   ]
  },
  {
   "cell_type": "code",
   "execution_count": 15,
   "metadata": {},
   "outputs": [
    {
     "data": {
      "image/png": "[encoded data removed]",
      "text/plain": [
       "<Figure size 576x432 with 1 Axes>"
      ]
     },
     "metadata": {
      "needs_background": "light"
     },
     "output_type": "display_data"
    }
   ],
   "source": [
    "# Visualização dos resultados do Modelo de Regressão Logística nos dados de teste\n",
    "\n",
    "\n",
    "plt.rcParams['figure.figsize'] = (8,6)\n",
    "plt.rcParams['font.size'] = 16\n",
    "tamanho = 20\n",
    "plt.scatter(range(0, tamanho), y_test[0:tamanho], s=150, color='red', label='Real')\n",
    "plt.scatter(range(0, tamanho), previsoes_logistica[0:tamanho], color='black', marker='^', label='Previsto')\n",
    "plt.title('Resultado do Modelo com Regressão Logística ({} primeiras instâncias)'.format(tamanho))\n",
    "plt.xlabel('Instãncias')\n",
    "plt.xticks(range(0, tamanho))\n",
    "plt.yticks(range(0, 2))\n",
    "plt.ylabel('Vai comprar? 0 - Não / 1 - Sim')\n",
    "plt.legend()\n",
    "plt.show()"
   ]
  },
  {
   "cell_type": "code",
   "execution_count": 16,
   "metadata": {},
   "outputs": [
    {
     "data": {
      "image/png": "[encoded data removed]",
      "text/plain": [
       "<Figure size 1440x864 with 1 Axes>"
      ]
     },
     "metadata": {
      "needs_background": "light"
     },
     "output_type": "display_data"
    }
   ],
   "source": [
    "# Visualização dos resultados do Modelo de Regressão Logística nos dados de teste\n",
    "\n",
    "plt.rcParams['figure.figsize'] = (20,12)\n",
    "plt.rcParams['font.size'] = 16\n",
    "plt.rcParams['xtick.labelsize'] = 10\n",
    "plt.rcParams['xtick.labelsize'] = 10\n",
    "plt.rcParams['ytick.labelsize'] = 16\n",
    "plt.rcParams['axes.labelsize'] = 20\n",
    "\n",
    "tamanho = 100\n",
    "plt.scatter([i for i in range(0,tamanho) if previsoes_logistica[i] == y_test[i]], previsoes_logistica[previsoes_logistica==y_test], s=50, color='green', label='Previsões Corretas')\n",
    "plt.scatter([i for i in range(0,tamanho) if previsoes_logistica[i] != y_test[i]], previsoes_logistica[previsoes_logistica!=y_test], s=50, color='red', label='Previsões Incorretas')\n",
    "plt.title('Resultado do Modelo com Regressão Logística ({} primeiras instâncias)'.format(tamanho))\n",
    "plt.xlabel('Instãncias')\n",
    "plt.xticks(range(0, tamanho))\n",
    "plt.xticks(rotation=90)\n",
    "plt.yticks(range(0, 2))\n",
    "plt.ylabel('Vai comprar? 0 - Não / 1 - Sim')\n",
    "plt.legend()\n",
    "plt.show()"
   ]
  }
 ],
 "metadata": {
  "kernelspec": {
   "display_name": "Python 3",
   "language": "python",
   "name": "python3"
  },
  "language_info": {
   "codemirror_mode": {
    "name": "ipython",
    "version": 3
   },
   "file_extension": ".py",
   "mimetype": "text/x-python",
   "name": "python",
   "nbconvert_exporter": "python",
   "pygments_lexer": "ipython3",
   "version": "3.8.5"
  }
 },
 "nbformat": 4,
 "nbformat_minor": 4
}
